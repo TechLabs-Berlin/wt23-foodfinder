{
 "cells": [
  {
   "cell_type": "markdown",
   "source": [
    "# Recommendation Model Summary\n",
    "\n",
    "This recommendation model uses a simple content-based approach. The main idea is to find the similarity between products based on their textual features (product name, brand, category, and description) and recommend a product that is most similar to the desired product when it's not available.\n",
    "\n",
    "The code performs the following steps:\n",
    "\n",
    "- Import the necessary libraries\n",
    "- Load the product data from a CSV file\n",
    "- Preprocess the text data by combining the product name, brand, category, and description columns into a single text column.\n",
    "- Create a term frequency-inverse document frequency (TF-IDF) matrix from the combined text data to represent the importance of words in the text\n",
    "- Compute the cosine similarity matrix based on the TF-IDF matrix to measure the similarity between products\n",
    "- Define a function recommend_similar_product that takes a product code and the similarity matrix as inputs and returns the most similar product information when the desired product is not available\n",
    "\n",
    "# Limitations and Potential Errors\n",
    "\n",
    "- The model relies solely on textual features, which may not capture all the relevant aspects of product similarity. Other features, such as price, nutritional information, or customer reviews, are not taken into account\n",
    "\n",
    "# Personal opinion\n",
    "\n",
    "In conclusion, the current recommendation model provides a basic solution for recommending similar products when the product is not available. However, it has several limitations that need to be addressed. To improve the model's accuracy and effectiveness and more measures I think other machine learning techniques should be considered.\n"
   ],
   "metadata": {
    "collapsed": false
   }
  },
  {
   "cell_type": "code",
   "execution_count": 15,
   "outputs": [
    {
     "name": "stdout",
     "output_type": "stream",
     "text": [
      "Recommended product: {'product_code': '4021851436929', 'product_name': 'Fruchtmüsli', 'brand': 'Dennree', 'category': 'Pflanzliche Lebensmittel und Getränke, Pflanzliche Lebensmittel, Frühstücke, Getreide und Kartoffeln, Getreideprodukte, Frühstückscerealien, Frühstückscerealien mit Früchten, Müslis, Müslis mit Früchten', 'description': ''}\n"
     ]
    }
   ],
   "source": [
    "import pandas as pd\n",
    "from sklearn.feature_extraction.text import TfidfVectorizer\n",
    "from sklearn.metrics.pairwise import linear_kernel\n",
    "\n",
    "products = pd.read_csv(\"product_data.csv\")\n",
    "\n",
    "products = products.fillna('')\n",
    "\n",
    "products['combined_features'] = products['product_name'] + \" \" + products['brand'] + \" \" + products['category'] + \" \" + products['description']\n",
    "\n",
    "vectorizer = TfidfVectorizer(stop_words=\"english\")\n",
    "tfidf_matrix = vectorizer.fit_transform(products['combined_features'])\n",
    "\n",
    "similarity_matrix = linear_kernel(tfidf_matrix, tfidf_matrix)\n",
    "\n",
    "def recommend_similar_product(product_code, similarity_matrix):\n",
    "    product_indices = products[products['product_code'] == product_code].index\n",
    "\n",
    "    if len(product_indices) == 0:\n",
    "        print(f\"Product code {product_code} not found in the dataset.\")\n",
    "        return None\n",
    "\n",
    "    index = product_indices[0]\n",
    "    similar_products = list(enumerate(similarity_matrix[index]))\n",
    "    sorted_similar_products = sorted(similar_products, key=lambda x: x[1], reverse=True)\n",
    "\n",
    "    most_similar_product_index = sorted_similar_products[1][0]\n",
    "    most_similar_product = products.iloc[most_similar_product_index]\n",
    "\n",
    "    return {\n",
    "        'product_code': most_similar_product['product_code'],\n",
    "        'product_name': most_similar_product['product_name'],\n",
    "        'brand': most_similar_product['brand'],\n",
    "        'category': most_similar_product['category'],\n",
    "        'description': most_similar_product['description']\n",
    "    }\n",
    "\n",
    "desired_product_code = '4000540021479'\n",
    "recommended_product = recommend_similar_product(desired_product_code, similarity_matrix)\n",
    "\n",
    "if recommended_product:\n",
    "    print(f\"Recommended product: {recommended_product}\")\n"
   ],
   "metadata": {
    "collapsed": false
   }
  },
  {
   "cell_type": "code",
   "execution_count": null,
   "outputs": [],
   "source": [],
   "metadata": {
    "collapsed": false
   }
  }
 ],
 "metadata": {
  "kernelspec": {
   "display_name": "Python 3",
   "language": "python",
   "name": "python3"
  },
  "language_info": {
   "codemirror_mode": {
    "name": "ipython",
    "version": 2
   },
   "file_extension": ".py",
   "mimetype": "text/x-python",
   "name": "python",
   "nbconvert_exporter": "python",
   "pygments_lexer": "ipython2",
   "version": "2.7.6"
  }
 },
 "nbformat": 4,
 "nbformat_minor": 0
}
