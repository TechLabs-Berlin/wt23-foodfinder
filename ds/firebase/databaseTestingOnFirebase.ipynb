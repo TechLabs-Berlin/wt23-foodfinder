{
 "cells": [
  {
   "cell_type": "code",
   "execution_count": 25,
   "metadata": {
    "collapsed": true
   },
   "outputs": [
    {
     "ename": "TypeError",
     "evalue": "Not a cmessage",
     "output_type": "error",
     "traceback": [
      "\u001B[0;31m---------------------------------------------------------------------------\u001B[0m",
      "\u001B[0;31mTypeError\u001B[0m                                 Traceback (most recent call last)",
      "Input \u001B[0;32mIn [25]\u001B[0m, in \u001B[0;36m<cell line: 47>\u001B[0;34m()\u001B[0m\n\u001B[1;32m     45\u001B[0m \u001B[38;5;66;03m# Add documents to the website_products collection\u001B[39;00m\n\u001B[1;32m     46\u001B[0m website_product_doc \u001B[38;5;241m=\u001B[39m website_products_ref\u001B[38;5;241m.\u001B[39mdocument()\n\u001B[0;32m---> 47\u001B[0m \u001B[43mwebsite_product_doc\u001B[49m\u001B[38;5;241;43m.\u001B[39;49m\u001B[43mset\u001B[49m\u001B[43m(\u001B[49m\u001B[43m{\u001B[49m\n\u001B[1;32m     48\u001B[0m \u001B[43m    \u001B[49m\u001B[38;5;124;43mu\u001B[39;49m\u001B[38;5;124;43m'\u001B[39;49m\u001B[38;5;124;43mproduct_id\u001B[39;49m\u001B[38;5;124;43m'\u001B[39;49m\u001B[43m:\u001B[49m\u001B[43m \u001B[49m\u001B[43mstore_products_ref\u001B[49m\u001B[38;5;241;43m.\u001B[39;49m\u001B[43mid\u001B[49m\u001B[43m,\u001B[49m\n\u001B[1;32m     49\u001B[0m \u001B[43m    \u001B[49m\u001B[38;5;124;43mu\u001B[39;49m\u001B[38;5;124;43m'\u001B[39;49m\u001B[38;5;124;43mstore_name\u001B[39;49m\u001B[38;5;124;43m'\u001B[39;49m\u001B[43m:\u001B[49m\u001B[43m \u001B[49m\u001B[38;5;124;43mu\u001B[39;49m\u001B[38;5;124;43m'\u001B[39;49m\u001B[38;5;124;43mExample Store\u001B[39;49m\u001B[38;5;124;43m'\u001B[39;49m\u001B[43m,\u001B[49m\n\u001B[1;32m     50\u001B[0m \u001B[43m    \u001B[49m\u001B[38;5;124;43mu\u001B[39;49m\u001B[38;5;124;43m'\u001B[39;49m\u001B[38;5;124;43mwebsite_url\u001B[39;49m\u001B[38;5;124;43m'\u001B[39;49m\u001B[43m:\u001B[49m\u001B[43m \u001B[49m\u001B[38;5;124;43mu\u001B[39;49m\u001B[38;5;124;43m'\u001B[39;49m\u001B[38;5;124;43mhttps://www.example.com/product\u001B[39;49m\u001B[38;5;124;43m'\u001B[39;49m\u001B[43m,\u001B[49m\n\u001B[1;32m     51\u001B[0m \u001B[43m    \u001B[49m\u001B[38;5;124;43mu\u001B[39;49m\u001B[38;5;124;43m'\u001B[39;49m\u001B[38;5;124;43mavailable\u001B[39;49m\u001B[38;5;124;43m'\u001B[39;49m\u001B[43m:\u001B[49m\u001B[43m \u001B[49m\u001B[38;5;28;43;01mTrue\u001B[39;49;00m\u001B[43m,\u001B[49m\n\u001B[1;32m     52\u001B[0m \u001B[43m    \u001B[49m\u001B[38;5;124;43mu\u001B[39;49m\u001B[38;5;124;43m'\u001B[39;49m\u001B[38;5;124;43mprice\u001B[39;49m\u001B[38;5;124;43m'\u001B[39;49m\u001B[43m:\u001B[49m\u001B[43m \u001B[49m\u001B[38;5;241;43m7.99\u001B[39;49m\u001B[43m,\u001B[49m\n\u001B[1;32m     53\u001B[0m \u001B[43m    \u001B[49m\u001B[38;5;124;43mu\u001B[39;49m\u001B[38;5;124;43m'\u001B[39;49m\u001B[38;5;124;43mupdated_at\u001B[39;49m\u001B[38;5;124;43m'\u001B[39;49m\u001B[43m:\u001B[49m\u001B[43m \u001B[49m\u001B[43mfirestore\u001B[49m\u001B[38;5;241;43m.\u001B[39;49m\u001B[43mSERVER_TIMESTAMP\u001B[49m\u001B[43m,\u001B[49m\n\u001B[1;32m     54\u001B[0m \u001B[43m    \u001B[49m\u001B[38;5;124;43mu\u001B[39;49m\u001B[38;5;124;43m'\u001B[39;49m\u001B[38;5;124;43mupdated_by\u001B[39;49m\u001B[38;5;124;43m'\u001B[39;49m\u001B[43m:\u001B[49m\u001B[43m \u001B[49m\u001B[38;5;124;43mu\u001B[39;49m\u001B[38;5;124;43m'\u001B[39;49m\u001B[38;5;124;43muser456\u001B[39;49m\u001B[38;5;124;43m'\u001B[39;49m\n\u001B[1;32m     55\u001B[0m \u001B[43m}\u001B[49m\u001B[43m)\u001B[49m\n",
      "File \u001B[0;32m~/opt/anaconda3/lib/python3.9/site-packages/google/cloud/firestore_v1/document.py:166\u001B[0m, in \u001B[0;36mDocumentReference.set\u001B[0;34m(self, document_data, merge, retry, timeout)\u001B[0m\n\u001B[1;32m    102\u001B[0m \u001B[38;5;28;01mdef\u001B[39;00m \u001B[38;5;21mset\u001B[39m(\n\u001B[1;32m    103\u001B[0m     \u001B[38;5;28mself\u001B[39m,\n\u001B[1;32m    104\u001B[0m     document_data: \u001B[38;5;28mdict\u001B[39m,\n\u001B[0;32m   (...)\u001B[0m\n\u001B[1;32m    107\u001B[0m     timeout: \u001B[38;5;28mfloat\u001B[39m \u001B[38;5;241m=\u001B[39m \u001B[38;5;28;01mNone\u001B[39;00m,\n\u001B[1;32m    108\u001B[0m ) \u001B[38;5;241m-\u001B[39m\u001B[38;5;241m>\u001B[39m write\u001B[38;5;241m.\u001B[39mWriteResult:\n\u001B[1;32m    109\u001B[0m     \u001B[38;5;124;03m\"\"\"Create / replace / merge a document in the Firestore database.\u001B[39;00m\n\u001B[1;32m    110\u001B[0m \n\u001B[1;32m    111\u001B[0m \u001B[38;5;124;03m    - To \"upsert\" a document (create if it doesn't exist, replace completely\u001B[39;00m\n\u001B[0;32m   (...)\u001B[0m\n\u001B[1;32m    164\u001B[0m \u001B[38;5;124;03m        result contains an ``update_time`` field.\u001B[39;00m\n\u001B[1;32m    165\u001B[0m \u001B[38;5;124;03m    \"\"\"\u001B[39;00m\n\u001B[0;32m--> 166\u001B[0m     batch, kwargs \u001B[38;5;241m=\u001B[39m \u001B[38;5;28;43mself\u001B[39;49m\u001B[38;5;241;43m.\u001B[39;49m\u001B[43m_prep_set\u001B[49m\u001B[43m(\u001B[49m\u001B[43mdocument_data\u001B[49m\u001B[43m,\u001B[49m\u001B[43m \u001B[49m\u001B[43mmerge\u001B[49m\u001B[43m,\u001B[49m\u001B[43m \u001B[49m\u001B[43mretry\u001B[49m\u001B[43m,\u001B[49m\u001B[43m \u001B[49m\u001B[43mtimeout\u001B[49m\u001B[43m)\u001B[49m\n\u001B[1;32m    167\u001B[0m     write_results \u001B[38;5;241m=\u001B[39m batch\u001B[38;5;241m.\u001B[39mcommit(\u001B[38;5;241m*\u001B[39m\u001B[38;5;241m*\u001B[39mkwargs)\n\u001B[1;32m    168\u001B[0m     \u001B[38;5;28;01mreturn\u001B[39;00m _first_write_result(write_results)\n",
      "File \u001B[0;32m~/opt/anaconda3/lib/python3.9/site-packages/google/cloud/firestore_v1/base_document.py:217\u001B[0m, in \u001B[0;36mBaseDocumentReference._prep_set\u001B[0;34m(self, document_data, merge, retry, timeout)\u001B[0m\n\u001B[1;32m    209\u001B[0m \u001B[38;5;28;01mdef\u001B[39;00m \u001B[38;5;21m_prep_set\u001B[39m(\n\u001B[1;32m    210\u001B[0m     \u001B[38;5;28mself\u001B[39m,\n\u001B[1;32m    211\u001B[0m     document_data: \u001B[38;5;28mdict\u001B[39m,\n\u001B[0;32m   (...)\u001B[0m\n\u001B[1;32m    214\u001B[0m     timeout: \u001B[38;5;28mfloat\u001B[39m \u001B[38;5;241m=\u001B[39m \u001B[38;5;28;01mNone\u001B[39;00m,\n\u001B[1;32m    215\u001B[0m ) \u001B[38;5;241m-\u001B[39m\u001B[38;5;241m>\u001B[39m Tuple[Any, \u001B[38;5;28mdict\u001B[39m]:\n\u001B[1;32m    216\u001B[0m     batch \u001B[38;5;241m=\u001B[39m \u001B[38;5;28mself\u001B[39m\u001B[38;5;241m.\u001B[39m_client\u001B[38;5;241m.\u001B[39mbatch()\n\u001B[0;32m--> 217\u001B[0m     \u001B[43mbatch\u001B[49m\u001B[38;5;241;43m.\u001B[39;49m\u001B[43mset\u001B[49m\u001B[43m(\u001B[49m\u001B[38;5;28;43mself\u001B[39;49m\u001B[43m,\u001B[49m\u001B[43m \u001B[49m\u001B[43mdocument_data\u001B[49m\u001B[43m,\u001B[49m\u001B[43m \u001B[49m\u001B[43mmerge\u001B[49m\u001B[38;5;241;43m=\u001B[39;49m\u001B[43mmerge\u001B[49m\u001B[43m)\u001B[49m\n\u001B[1;32m    218\u001B[0m     kwargs \u001B[38;5;241m=\u001B[39m _helpers\u001B[38;5;241m.\u001B[39mmake_retry_timeout_kwargs(retry, timeout)\n\u001B[1;32m    220\u001B[0m     \u001B[38;5;28;01mreturn\u001B[39;00m batch, kwargs\n",
      "File \u001B[0;32m~/opt/anaconda3/lib/python3.9/site-packages/google/cloud/firestore_v1/base_batch.py:111\u001B[0m, in \u001B[0;36mBaseBatch.set\u001B[0;34m(self, reference, document_data, merge)\u001B[0m\n\u001B[1;32m    107\u001B[0m     write_pbs \u001B[38;5;241m=\u001B[39m _helpers\u001B[38;5;241m.\u001B[39mpbs_for_set_with_merge(\n\u001B[1;32m    108\u001B[0m         reference\u001B[38;5;241m.\u001B[39m_document_path, document_data, merge\n\u001B[1;32m    109\u001B[0m     )\n\u001B[1;32m    110\u001B[0m \u001B[38;5;28;01melse\u001B[39;00m:\n\u001B[0;32m--> 111\u001B[0m     write_pbs \u001B[38;5;241m=\u001B[39m \u001B[43m_helpers\u001B[49m\u001B[38;5;241;43m.\u001B[39;49m\u001B[43mpbs_for_set_no_merge\u001B[49m\u001B[43m(\u001B[49m\n\u001B[1;32m    112\u001B[0m \u001B[43m        \u001B[49m\u001B[43mreference\u001B[49m\u001B[38;5;241;43m.\u001B[39;49m\u001B[43m_document_path\u001B[49m\u001B[43m,\u001B[49m\u001B[43m \u001B[49m\u001B[43mdocument_data\u001B[49m\n\u001B[1;32m    113\u001B[0m \u001B[43m    \u001B[49m\u001B[43m)\u001B[49m\n\u001B[1;32m    115\u001B[0m \u001B[38;5;28mself\u001B[39m\u001B[38;5;241m.\u001B[39m_document_references[reference\u001B[38;5;241m.\u001B[39m_document_path] \u001B[38;5;241m=\u001B[39m reference\n\u001B[1;32m    116\u001B[0m \u001B[38;5;28mself\u001B[39m\u001B[38;5;241m.\u001B[39m_add_write_pbs(write_pbs)\n",
      "File \u001B[0;32m~/opt/anaconda3/lib/python3.9/site-packages/google/cloud/firestore_v1/_helpers.py:717\u001B[0m, in \u001B[0;36mpbs_for_set_no_merge\u001B[0;34m(document_path, document_data)\u001B[0m\n\u001B[1;32m    715\u001B[0m \u001B[38;5;28;01mif\u001B[39;00m extractor\u001B[38;5;241m.\u001B[39mhas_transforms:\n\u001B[1;32m    716\u001B[0m     field_transform_pbs \u001B[38;5;241m=\u001B[39m extractor\u001B[38;5;241m.\u001B[39mget_field_transform_pbs(document_path)\n\u001B[0;32m--> 717\u001B[0m     \u001B[43mset_pb\u001B[49m\u001B[38;5;241;43m.\u001B[39;49m\u001B[43mupdate_transforms\u001B[49m\u001B[38;5;241;43m.\u001B[39;49m\u001B[43mextend\u001B[49m\u001B[43m(\u001B[49m\u001B[43mfield_transform_pbs\u001B[49m\u001B[43m)\u001B[49m\n\u001B[1;32m    719\u001B[0m \u001B[38;5;28;01mreturn\u001B[39;00m [set_pb]\n",
      "\u001B[0;31mTypeError\u001B[0m: Not a cmessage"
     ]
    }
   ],
   "source": [
    "# import firebase_admin\n",
    "from firebase_admin import credentials\n",
    "from firebase_admin import firestore\n",
    "\n",
    "cred = credentials.Certificate(\"secrets/foodfinder-wt23-e1ae21c1954e.json\")\n",
    "\n",
    "# connecting to firestore\n",
    "db = firestore.client()\n",
    "\n",
    "\n"
   ]
  },
  {
   "cell_type": "code",
   "execution_count": null,
   "outputs": [],
   "source": [],
   "metadata": {
    "collapsed": false
   }
  }
 ],
 "metadata": {
  "kernelspec": {
   "display_name": "Python 3",
   "language": "python",
   "name": "python3"
  },
  "language_info": {
   "codemirror_mode": {
    "name": "ipython",
    "version": 2
   },
   "file_extension": ".py",
   "mimetype": "text/x-python",
   "name": "python",
   "nbconvert_exporter": "python",
   "pygments_lexer": "ipython2",
   "version": "2.7.6"
  }
 },
 "nbformat": 4,
 "nbformat_minor": 0
}
